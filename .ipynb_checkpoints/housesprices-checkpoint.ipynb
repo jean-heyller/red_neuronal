{
 "cells": [
  {
   "cell_type": "code",
   "execution_count": 1,
   "id": "3da48d86-cbf3-4b6c-9e43-2c577f27aabd",
   "metadata": {},
   "outputs": [],
   "source": [
    "import torch\n",
    "import torch.nn as nn\n",
    "import torch.nn.functional as F\n",
    "from torch.utils.data import random_split, TensorDataset\n",
    "import numpy as np \n",
    "import pandas as pd\n",
    "from sklearn.preprocessing import StandardScaler"
   ]
  },
  {
   "cell_type": "code",
   "execution_count": 3,
   "id": "64a50517-fd74-4925-88ca-ae909d592a13",
   "metadata": {},
   "outputs": [
    {
     "data": {
      "text/html": [
       "<div>\n",
       "<style scoped>\n",
       "    .dataframe tbody tr th:only-of-type {\n",
       "        vertical-align: middle;\n",
       "    }\n",
       "\n",
       "    .dataframe tbody tr th {\n",
       "        vertical-align: top;\n",
       "    }\n",
       "\n",
       "    .dataframe thead th {\n",
       "        text-align: right;\n",
       "    }\n",
       "</style>\n",
       "<table border=\"1\" class=\"dataframe\">\n",
       "  <thead>\n",
       "    <tr style=\"text-align: right;\">\n",
       "      <th></th>\n",
       "      <th>LotArea</th>\n",
       "      <th>OverallQual</th>\n",
       "      <th>OverallCond</th>\n",
       "      <th>TotalBsmtSF</th>\n",
       "      <th>FullBath</th>\n",
       "      <th>HalfBath</th>\n",
       "      <th>BedroomAbvGr</th>\n",
       "      <th>TotRmsAbvGrd</th>\n",
       "      <th>Fireplaces</th>\n",
       "      <th>GarageArea</th>\n",
       "      <th>AboveMedianPrice</th>\n",
       "    </tr>\n",
       "  </thead>\n",
       "  <tbody>\n",
       "    <tr>\n",
       "      <th>0</th>\n",
       "      <td>8450</td>\n",
       "      <td>7</td>\n",
       "      <td>5</td>\n",
       "      <td>856</td>\n",
       "      <td>2</td>\n",
       "      <td>1</td>\n",
       "      <td>3</td>\n",
       "      <td>8</td>\n",
       "      <td>0</td>\n",
       "      <td>548</td>\n",
       "      <td>1</td>\n",
       "    </tr>\n",
       "    <tr>\n",
       "      <th>1</th>\n",
       "      <td>9600</td>\n",
       "      <td>6</td>\n",
       "      <td>8</td>\n",
       "      <td>1262</td>\n",
       "      <td>2</td>\n",
       "      <td>0</td>\n",
       "      <td>3</td>\n",
       "      <td>6</td>\n",
       "      <td>1</td>\n",
       "      <td>460</td>\n",
       "      <td>1</td>\n",
       "    </tr>\n",
       "    <tr>\n",
       "      <th>2</th>\n",
       "      <td>11250</td>\n",
       "      <td>7</td>\n",
       "      <td>5</td>\n",
       "      <td>920</td>\n",
       "      <td>2</td>\n",
       "      <td>1</td>\n",
       "      <td>3</td>\n",
       "      <td>6</td>\n",
       "      <td>1</td>\n",
       "      <td>608</td>\n",
       "      <td>1</td>\n",
       "    </tr>\n",
       "    <tr>\n",
       "      <th>3</th>\n",
       "      <td>9550</td>\n",
       "      <td>7</td>\n",
       "      <td>5</td>\n",
       "      <td>756</td>\n",
       "      <td>1</td>\n",
       "      <td>0</td>\n",
       "      <td>3</td>\n",
       "      <td>7</td>\n",
       "      <td>1</td>\n",
       "      <td>642</td>\n",
       "      <td>0</td>\n",
       "    </tr>\n",
       "    <tr>\n",
       "      <th>4</th>\n",
       "      <td>14260</td>\n",
       "      <td>8</td>\n",
       "      <td>5</td>\n",
       "      <td>1145</td>\n",
       "      <td>2</td>\n",
       "      <td>1</td>\n",
       "      <td>4</td>\n",
       "      <td>9</td>\n",
       "      <td>1</td>\n",
       "      <td>836</td>\n",
       "      <td>1</td>\n",
       "    </tr>\n",
       "  </tbody>\n",
       "</table>\n",
       "</div>"
      ],
      "text/plain": [
       "   LotArea  OverallQual  OverallCond  TotalBsmtSF  FullBath  HalfBath  \\\n",
       "0     8450            7            5          856         2         1   \n",
       "1     9600            6            8         1262         2         0   \n",
       "2    11250            7            5          920         2         1   \n",
       "3     9550            7            5          756         1         0   \n",
       "4    14260            8            5         1145         2         1   \n",
       "\n",
       "   BedroomAbvGr  TotRmsAbvGrd  Fireplaces  GarageArea  AboveMedianPrice  \n",
       "0             3             8           0         548                 1  \n",
       "1             3             6           1         460                 1  \n",
       "2             3             6           1         608                 1  \n",
       "3             3             7           1         642                 0  \n",
       "4             4             9           1         836                 1  "
      ]
     },
     "execution_count": 3,
     "metadata": {},
     "output_type": "execute_result"
    }
   ],
   "source": [
    "# Lee el archivo Excel\n",
    "datos = pd.read_excel(\"housepricedata.xlsx\")\n",
    "\n",
    "# Muestra las primeras filas del DataFrame\n",
    "datos.head()"
   ]
  },
  {
   "cell_type": "code",
   "execution_count": 4,
   "id": "907c3a9d-97a3-4170-8649-4de456433cfb",
   "metadata": {},
   "outputs": [
    {
     "data": {
      "text/plain": [
       "0    1\n",
       "1    1\n",
       "2    1\n",
       "3    0\n",
       "4    1\n",
       "Name: AboveMedianPrice, dtype: int64"
      ]
     },
     "execution_count": 4,
     "metadata": {},
     "output_type": "execute_result"
    }
   ],
   "source": [
    "# Separamos la ultima columna para que sea variable destino\n",
    "datos_y = datos[datos.columns[-1]]\n",
    "datos_y.head()"
   ]
  },
  {
   "cell_type": "code",
   "execution_count": 5,
   "id": "e981ce86-ffd3-4982-848e-74ee147300ae",
   "metadata": {},
   "outputs": [
    {
     "data": {
      "text/html": [
       "<div>\n",
       "<style scoped>\n",
       "    .dataframe tbody tr th:only-of-type {\n",
       "        vertical-align: middle;\n",
       "    }\n",
       "\n",
       "    .dataframe tbody tr th {\n",
       "        vertical-align: top;\n",
       "    }\n",
       "\n",
       "    .dataframe thead th {\n",
       "        text-align: right;\n",
       "    }\n",
       "</style>\n",
       "<table border=\"1\" class=\"dataframe\">\n",
       "  <thead>\n",
       "    <tr style=\"text-align: right;\">\n",
       "      <th></th>\n",
       "      <th>LotArea</th>\n",
       "      <th>OverallQual</th>\n",
       "      <th>OverallCond</th>\n",
       "      <th>TotalBsmtSF</th>\n",
       "      <th>FullBath</th>\n",
       "      <th>HalfBath</th>\n",
       "      <th>BedroomAbvGr</th>\n",
       "      <th>TotRmsAbvGrd</th>\n",
       "      <th>Fireplaces</th>\n",
       "      <th>GarageArea</th>\n",
       "    </tr>\n",
       "  </thead>\n",
       "  <tbody>\n",
       "    <tr>\n",
       "      <th>0</th>\n",
       "      <td>8450</td>\n",
       "      <td>7</td>\n",
       "      <td>5</td>\n",
       "      <td>856</td>\n",
       "      <td>2</td>\n",
       "      <td>1</td>\n",
       "      <td>3</td>\n",
       "      <td>8</td>\n",
       "      <td>0</td>\n",
       "      <td>548</td>\n",
       "    </tr>\n",
       "    <tr>\n",
       "      <th>1</th>\n",
       "      <td>9600</td>\n",
       "      <td>6</td>\n",
       "      <td>8</td>\n",
       "      <td>1262</td>\n",
       "      <td>2</td>\n",
       "      <td>0</td>\n",
       "      <td>3</td>\n",
       "      <td>6</td>\n",
       "      <td>1</td>\n",
       "      <td>460</td>\n",
       "    </tr>\n",
       "    <tr>\n",
       "      <th>2</th>\n",
       "      <td>11250</td>\n",
       "      <td>7</td>\n",
       "      <td>5</td>\n",
       "      <td>920</td>\n",
       "      <td>2</td>\n",
       "      <td>1</td>\n",
       "      <td>3</td>\n",
       "      <td>6</td>\n",
       "      <td>1</td>\n",
       "      <td>608</td>\n",
       "    </tr>\n",
       "    <tr>\n",
       "      <th>3</th>\n",
       "      <td>9550</td>\n",
       "      <td>7</td>\n",
       "      <td>5</td>\n",
       "      <td>756</td>\n",
       "      <td>1</td>\n",
       "      <td>0</td>\n",
       "      <td>3</td>\n",
       "      <td>7</td>\n",
       "      <td>1</td>\n",
       "      <td>642</td>\n",
       "    </tr>\n",
       "    <tr>\n",
       "      <th>4</th>\n",
       "      <td>14260</td>\n",
       "      <td>8</td>\n",
       "      <td>5</td>\n",
       "      <td>1145</td>\n",
       "      <td>2</td>\n",
       "      <td>1</td>\n",
       "      <td>4</td>\n",
       "      <td>9</td>\n",
       "      <td>1</td>\n",
       "      <td>836</td>\n",
       "    </tr>\n",
       "  </tbody>\n",
       "</table>\n",
       "</div>"
      ],
      "text/plain": [
       "   LotArea  OverallQual  OverallCond  TotalBsmtSF  FullBath  HalfBath  \\\n",
       "0     8450            7            5          856         2         1   \n",
       "1     9600            6            8         1262         2         0   \n",
       "2    11250            7            5          920         2         1   \n",
       "3     9550            7            5          756         1         0   \n",
       "4    14260            8            5         1145         2         1   \n",
       "\n",
       "   BedroomAbvGr  TotRmsAbvGrd  Fireplaces  GarageArea  \n",
       "0             3             8           0         548  \n",
       "1             3             6           1         460  \n",
       "2             3             6           1         608  \n",
       "3             3             7           1         642  \n",
       "4             4             9           1         836  "
      ]
     },
     "execution_count": 5,
     "metadata": {},
     "output_type": "execute_result"
    }
   ],
   "source": [
    "#eliminamos la tabla de la variable de destino\n",
    "datos_x = datos.drop(columns=[\"AboveMedianPrice\"])\n",
    "datos_x.head()"
   ]
  },
  {
   "cell_type": "code",
   "execution_count": 6,
   "id": "553fc979-8be7-44cd-8b58-90897306cd14",
   "metadata": {},
   "outputs": [
    {
     "name": "stdout",
     "output_type": "stream",
     "text": [
      "[[-0.20714171  0.65147924 -0.51719981 ...  0.91220977 -0.95122649\n",
      "   0.35100032]\n",
      " [-0.09188637 -0.07183611  2.17962776 ... -0.31868327  0.60049493\n",
      "  -0.06073101]\n",
      " [ 0.07347998  0.65147924 -0.51719981 ... -0.31868327  0.60049493\n",
      "   0.63172623]\n",
      " ...\n",
      " [-0.14781027  0.65147924  3.07857028 ...  1.52765629  2.15221636\n",
      "  -1.03391416]\n",
      " [-0.08016039 -0.79515147  0.38174271 ... -0.93412978 -0.95122649\n",
      "  -1.09005935]\n",
      " [-0.05811155 -0.79515147  0.38174271 ... -0.31868327 -0.95122649\n",
      "  -0.9216238 ]]\n"
     ]
    }
   ],
   "source": [
    "#Ahora vamos a escalar los valores para que esten dentro de un rango mas corto.\n",
    "escalador = StandardScaler()\n",
    "datos_x = escalador.fit_transform(datos_x)\n",
    "print(datos_x)"
   ]
  },
  {
   "cell_type": "code",
   "execution_count": 7,
   "id": "872ec1ca-7cbc-4447-9c6e-1e20585ec061",
   "metadata": {},
   "outputs": [
    {
     "data": {
      "text/plain": [
       "1460"
      ]
     },
     "execution_count": 7,
     "metadata": {},
     "output_type": "execute_result"
    }
   ],
   "source": [
    "#imprimimos la cantidad de datos que tenemos\n",
    "datos_x.shape[0]"
   ]
  },
  {
   "cell_type": "code",
   "execution_count": 8,
   "id": "df57b086-37ff-4c12-895b-9c15d0f71c54",
   "metadata": {},
   "outputs": [],
   "source": [
    "from sklearn.model_selection import train_test_split\n",
    "\n",
    "# Esta función divide los datos en conjuntos de entrenamiento y prueba\n",
    "# datos_x: son las características (features) de entrada\n",
    "# datos_y: son las etiquetas (labels) de salida\n",
    "# test_size: define el tamaño del conjunto de prueba. En este caso, 20% de los datos se usarán para prueba y 80% para entrenamiento\n",
    "# random_state: se usa para asegurar que la división sea reproducible. El número 2 es una semilla fija para el generador de números aleatorios\n",
    "\n",
    "X_train, X_test, y_train, y_test = train_test_split(datos_x, datos_y, test_size=0.2, random_state=2)\n",
    "\n",
    "# X_train: conjunto de entrenamiento para las características de entrada\n",
    "# X_test: conjunto de prueba para las características de entrada\n",
    "# y_train: conjunto de entrenamiento para las etiquetas de salida\n",
    "# y_test: conjunto de prueba para las etiquetas de salida\n"
   ]
  },
  {
   "cell_type": "code",
   "execution_count": 9,
   "id": "5b7f28b7-c15f-489f-a09a-0804d21d5f9c",
   "metadata": {},
   "outputs": [
    {
     "name": "stdout",
     "output_type": "stream",
     "text": [
      "X Train: (1168, 10), X Test: (292, 10), y_train: (1168,), y_test: (292,)\n"
     ]
    }
   ],
   "source": [
    "print(\"X Train: {}, X Test: {}, y_train: {}, y_test: {}\".format(X_train.shape, X_test.shape, y_train.shape, y_test.shape))"
   ]
  },
  {
   "cell_type": "code",
   "execution_count": 28,
   "id": "f8bf34ec-1997-4461-96cd-a177c8dea8b7",
   "metadata": {},
   "outputs": [
    {
     "name": "stdout",
     "output_type": "stream",
     "text": [
      "10\n"
     ]
    }
   ],
   "source": [
    "n_entradas = X_train.shape[1]\n",
    "print(n_entradas)"
   ]
  },
  {
   "cell_type": "code",
   "execution_count": 11,
   "id": "a24b8419-457c-401a-9464-9a5670650cbe",
   "metadata": {},
   "outputs": [],
   "source": [
    "# Convierte el conjunto de características de entrenamiento (X_train) a un tensor de PyTorch, \n",
    "# cambia su tipo de datos a float y lo mueve al dispositivo CPU\n",
    "t_X_train = torch.from_numpy(X_train).float().to(\"cpu\")  # MPS se refiere a Metal Performance Shaders, usado en dispositivos Apple\n",
    "\n",
    "# Convierte el conjunto de características de prueba (X_test) a un tensor de PyTorch,\n",
    "# cambia su tipo de datos a float y lo mueve al dispositivo CPU\n",
    "t_X_test = torch.from_numpy(X_test).float().to(\"cpu\")\n",
    "\n",
    "# Convierte las etiquetas de entrenamiento (y_train) a un tensor de PyTorch,\n",
    "# cambia su tipo de datos a float y lo mueve al dispositivo CPU\n",
    "t_y_train = torch.from_numpy(y_train.values).float().to(\"cpu\")\n",
    "\n",
    "# Convierte las etiquetas de prueba (y_test) a un tensor de PyTorch,\n",
    "# cambia su tipo de datos a float y lo mueve al dispositivo CPU\n",
    "t_y_test = torch.from_numpy(y_test.values).float().to(\"cpu\")\n",
    "\n",
    "# Añade una nueva dimensión a las etiquetas de entrenamiento para que sean compatibles con las operaciones de PyTorch.\n",
    "# Esto convierte t_y_train de forma (N,) a (N,1), donde N es el número de muestras\n",
    "t_y_train = t_y_train[:, None]\n",
    "\n",
    "# Añade una nueva dimensión a las etiquetas de prueba para que sean compatibles con las operaciones de PyTorch.\n",
    "# Esto convierte t_y_test de forma (N,) a (N,1), donde N es el número de muestras\n",
    "t_y_test = t_y_test[:, None]\n"
   ]
  },
  {
   "cell_type": "code",
   "execution_count": 12,
   "id": "169054d8-dd00-4f5b-a9ca-81207c018830",
   "metadata": {},
   "outputs": [
    {
     "name": "stdout",
     "output_type": "stream",
     "text": [
      "(tensor([ 0.5096,  0.6515,  2.1796,  1.0114,  0.7897, -0.7616, -2.2887, -0.3187,\n",
      "         2.1522,  0.0516]), tensor([1.]))\n"
     ]
    }
   ],
   "source": [
    "test = TensorDataset(t_X_test, t_y_test)\n",
    "print(test[0])"
   ]
  },
  {
   "cell_type": "code",
   "execution_count": 13,
   "id": "f51905f8-c447-4657-b352-ad00fe030e04",
   "metadata": {},
   "outputs": [
    {
     "data": {
      "text/plain": [
       "tensor([[1.],\n",
       "        [0.],\n",
       "        [0.],\n",
       "        ...,\n",
       "        [0.],\n",
       "        [1.],\n",
       "        [0.]])"
      ]
     },
     "execution_count": 13,
     "metadata": {},
     "output_type": "execute_result"
    }
   ],
   "source": [
    "t_y_train"
   ]
  },
  {
   "cell_type": "code",
   "execution_count": 29,
   "id": "8e22f322-74d1-4301-aa29-d12e1a851ede",
   "metadata": {},
   "outputs": [],
   "source": [
    "class Red(nn.Module):\n",
    "    \n",
    "    def __init__(self, n_entradas):\n",
    "        super(Red, self).__init__()\n",
    "        self.linear1 = nn.Linear(n_entradas, 15)\n",
    "        self.linear2 = nn.Linear(15, 30)\n",
    "        self.linear3 = nn.Linear(30,50)\n",
    "        self.linear4 = nn.Linear(50, 20)\n",
    "        self.linear5 = nn.Linear(20, 8)\n",
    "        self.linear6 = nn.Linear(8, 1)\n",
    "    \n",
    "    def forward(self, inputs):\n",
    "        pred_1 = torch.sigmoid(input=self.linear1(inputs))\n",
    "        pred_2 = torch.sigmoid(input=self.linear2(pred_1))\n",
    "        pred_3 = torch.sigmoid(input=self.linear3(pred_2))\n",
    "        pred_4 = torch.sigmoid(input=self.linear4(pred_3))\n",
    "        pred_5 = torch.sigmoid(input=self.linear5(pred_4))\n",
    "        pred_f = torch.sigmoid(input=self.linear6(pred_5))\n",
    "        return pred_f"
   ]
  },
  {
   "cell_type": "code",
   "execution_count": 30,
   "id": "7332f3b1-6e39-4788-9e12-f29ea5df2674",
   "metadata": {},
   "outputs": [
    {
     "data": {
      "text/plain": [
       "tensor([1.])"
      ]
     },
     "execution_count": 30,
     "metadata": {},
     "output_type": "execute_result"
    }
   ],
   "source": [
    "t_y_test[0]"
   ]
  },
  {
   "cell_type": "code",
   "execution_count": 39,
   "id": "298c73ef-f793-4ffc-a82c-a3c84fd57c1c",
   "metadata": {},
   "outputs": [
    {
     "name": "stdout",
     "output_type": "stream",
     "text": [
      "Arquitectura del modelo: Red(\n",
      "  (linear1): Linear(in_features=10, out_features=15, bias=True)\n",
      "  (linear2): Linear(in_features=15, out_features=30, bias=True)\n",
      "  (linear3): Linear(in_features=30, out_features=50, bias=True)\n",
      "  (linear4): Linear(in_features=50, out_features=20, bias=True)\n",
      "  (linear5): Linear(in_features=20, out_features=8, bias=True)\n",
      "  (linear6): Linear(in_features=8, out_features=1, bias=True)\n",
      ")\n",
      "Entrenamos el modelo\n",
      "\n",
      "Epoch 100 \t Loss: 0.6922\n",
      "Accuracy: 46.917808532714844\n",
      "\n",
      "Epoch 200 \t Loss: 0.6362\n",
      "Accuracy: 85.95890045166016\n",
      "\n",
      "Epoch 300 \t Loss: 0.3594\n",
      "Accuracy: 88.01370239257812\n",
      "\n",
      "Epoch 400 \t Loss: 0.3005\n",
      "Accuracy: 88.01370239257812\n",
      "\n",
      "Epoch 500 \t Loss: 0.2675\n",
      "Accuracy: 88.01370239257812\n",
      "\n",
      "Epoch 600 \t Loss: 0.2495\n",
      "Accuracy: 87.67123413085938\n",
      "\n",
      "Epoch 700 \t Loss: 0.2363\n",
      "Accuracy: 87.67123413085938\n",
      "\n",
      "Epoch 800 \t Loss: 0.2238\n",
      "Accuracy: 88.6986312866211\n",
      "\n",
      "Epoch 900 \t Loss: 0.2029\n",
      "Accuracy: 89.72602844238281\n",
      "\n",
      "Epoch 1000 \t Loss: 0.1805\n",
      "Accuracy: 89.72602844238281\n",
      "\n",
      "Epoch 1100 \t Loss: 0.165\n",
      "Accuracy: 89.72602844238281\n",
      "\n",
      "Epoch 1200 \t Loss: 0.1544\n",
      "Accuracy: 89.04109954833984\n",
      "\n",
      "Epoch 1300 \t Loss: 0.148\n",
      "Accuracy: 89.38356018066406\n",
      "\n",
      "Epoch 1400 \t Loss: 0.1448\n",
      "Accuracy: 89.38356018066406\n",
      "\n",
      "Epoch 1500 \t Loss: 0.1432\n",
      "Accuracy: 89.72602844238281\n",
      "\n",
      "Epoch 1600 \t Loss: 0.1423\n",
      "Accuracy: 89.38356018066406\n",
      "\n",
      "Epoch 1700 \t Loss: 0.1363\n",
      "Accuracy: 88.35616302490234\n",
      "\n",
      "Epoch 1800 \t Loss: 0.1358\n",
      "Accuracy: 88.35616302490234\n",
      "\n",
      "Epoch 1900 \t Loss: 0.1355\n",
      "Accuracy: 88.6986312866211\n",
      "\n",
      "Epoch 2000 \t Loss: 0.1352\n",
      "Accuracy: 89.04109954833984\n",
      "Accuracy final: 89.0411\n",
      "CPU times: total: 29.9 s\n",
      "Wall time: 43.6 s\n"
     ]
    }
   ],
   "source": [
    "%%time\n",
    "lr = 0.001\n",
    "epochs = 2000\n",
    "estatus_print = 100\n",
    "\n",
    "model = Red(n_entradas=n_entradas)\n",
    "loss_fn = nn.BCELoss()\n",
    "optimizer = torch.optim.Adam(params=model.parameters(), lr=lr)\n",
    "print(\"Arquitectura del modelo: {}\".format(model))\n",
    "historico = pd.DataFrame()\n",
    "\n",
    "print(\"Entrenamos el modelo\")\n",
    "for epoch in range(1, epochs+1):\n",
    "    y_pred= model(t_X_train)\n",
    "    loss = loss_fn(input=y_pred, target=t_y_train)\n",
    "    loss.backward()\n",
    "    optimizer.step()\n",
    "    optimizer.zero_grad()\n",
    "    \n",
    "    if epoch % estatus_print == 0:\n",
    "        print(f\"\\nEpoch {epoch} \\t Loss: {round(loss.item(), 4)}\")\n",
    "    \n",
    "    with torch.no_grad():\n",
    "        y_pred = model(t_X_test)\n",
    "        y_pred_class = y_pred.round()\n",
    "        correct = (y_pred_class == t_y_test).sum()\n",
    "        accuracy = 100 * correct / float(len(t_y_test))\n",
    "        if epoch % estatus_print == 0:\n",
    "            print(\"Accuracy: {}\".format(accuracy.item()))\n",
    "    \n",
    "    df_tmp = pd.DataFrame(data={\n",
    "        'Epoch': epoch,\n",
    "        'Loss': round(loss.item(), 4),\n",
    "        'Accuracy': round(accuracy.item(), 4)\n",
    "    }, index=[0])\n",
    "    historico = pd.concat(objs=[historico, df_tmp], ignore_index=True, sort=False)\n",
    "\n",
    "print(\"Accuracy final: {}\".format(round(accuracy.item(), 4)))"
   ]
  },
  {
   "cell_type": "code",
   "execution_count": 32,
   "id": "1b0d2626-9e05-4a3b-b93a-c2e7e6773ffe",
   "metadata": {},
   "outputs": [
    {
     "data": {
      "image/png": "[encoded data removed]",
      "text/plain": [
       "<Figure size 1000x1000 with 1 Axes>"
      ]
     },
     "metadata": {},
     "output_type": "display_data"
    }
   ],
   "source": [
    "import matplotlib.pyplot as plt\n",
    "%matplotlib inline\n",
    "\n",
    "plt.figure(figsize=(10, 10))\n",
    "plt.plot(historico['Epoch'], historico['Loss'], label='Loss')\n",
    "plt.title(\"Loss\", fontsize=25)\n",
    "plt.xlabel(\"Epoch\", fontsize=12)\n",
    "plt.ylabel(\"Loss\", fontsize=12)\n",
    "plt.grid()\n",
    "plt.show()"
   ]
  },
  {
   "cell_type": "code",
   "execution_count": 33,
   "id": "77065e48-6984-45f5-b149-d4d307297760",
   "metadata": {},
   "outputs": [
    {
     "data": {
      "image/png": "[encoded data removed]",
      "text/plain": [
       "<Figure size 1000x1000 with 1 Axes>"
      ]
     },
     "metadata": {},
     "output_type": "display_data"
    }
   ],
   "source": [
    "plt.figure(figsize=(10, 10))\n",
    "plt.plot(historico['Epoch'], historico['Accuracy'], label='Accuracy')\n",
    "plt.title(\"Accuracy\", fontsize=25)\n",
    "plt.xlabel(\"Epoch\", fontsize=12)\n",
    "plt.ylabel(\"Accuracy\", fontsize=12)\n",
    "plt.grid()\n",
    "plt.show()"
   ]
  },
  {
   "cell_type": "code",
   "execution_count": 34,
   "id": "ab66e031-4222-4bec-a63b-80268e29b229",
   "metadata": {
    "scrolled": true
   },
   "outputs": [
    {
     "data": {
      "text/plain": [
       "tensor([ 0.6267,  0.6515, -0.5172,  0.3137,  0.7897,  1.2276,  1.3900,  0.2968,\n",
       "        -0.9512,  0.0609])"
      ]
     },
     "execution_count": 34,
     "metadata": {},
     "output_type": "execute_result"
    }
   ],
   "source": [
    "t_X_test[5]"
   ]
  },
  {
   "cell_type": "code",
   "execution_count": 35,
   "id": "74992725-6a73-44ed-9b71-ab9d1d59ce93",
   "metadata": {
    "scrolled": true
   },
   "outputs": [
    {
     "name": "stdout",
     "output_type": "stream",
     "text": [
      "tensor([0.9746], grad_fn=<SigmoidBackward0>)\n"
     ]
    }
   ],
   "source": [
    "prediccion = model(t_X_test[4])\n",
    "print(prediccion)"
   ]
  },
  {
   "cell_type": "code",
   "execution_count": 36,
   "id": "503e586f-7fdf-4992-936d-e5dd8a227e6c",
   "metadata": {
    "scrolled": true
   },
   "outputs": [
    {
     "data": {
      "text/plain": [
       "tensor([1.])"
      ]
     },
     "execution_count": 36,
     "metadata": {},
     "output_type": "execute_result"
    }
   ],
   "source": [
    "t_y_test[4]"
   ]
  },
  {
   "cell_type": "code",
   "execution_count": null,
   "id": "c9766823-d21c-4a56-b300-8e8094d2702d",
   "metadata": {},
   "outputs": [],
   "source": []
  }
 ],
 "metadata": {
  "kernelspec": {
   "display_name": "Python 3 (ipykernel)",
   "language": "python",
   "name": "python3"
  },
  "language_info": {
   "codemirror_mode": {
    "name": "ipython",
    "version": 3
   },
   "file_extension": ".py",
   "mimetype": "text/x-python",
   "name": "python",
   "nbconvert_exporter": "python",
   "pygments_lexer": "ipython3",
   "version": "3.11.7"
  }
 },
 "nbformat": 4,
 "nbformat_minor": 5
}
